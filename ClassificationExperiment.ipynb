{
 "cells": [
  {
   "cell_type": "markdown",
   "metadata": {},
   "source": [
    "# Linear Classification And Gradient Descent"
   ]
  },
  {
   "cell_type": "code",
   "execution_count": 30,
   "metadata": {},
   "outputs": [
    {
     "data": {
      "text/plain": [
       "Text(0,0.5,'loss')"
      ]
     },
     "execution_count": 30,
     "metadata": {},
     "output_type": "execute_result"
    },
    {
     "data": {
      "image/png": "[encoded data removed]",
      "text/plain": [
       "<matplotlib.figure.Figure at 0xa7c4320>"
      ]
     },
     "metadata": {},
     "output_type": "display_data"
    }
   ],
   "source": [
    "%matplotlib inline\n",
    "import numpy as np\n",
    "import matplotlib.pyplot as plt\n",
    "from sklearn import datasets as ds\n",
    "from sklearn.model_selection import train_test_split\n",
    "#读取数据集\n",
    "X,y = ds.load_svmlight_file(\"D:/traindata/australian_scale.txt\")\n",
    "X = X.toarray()\n",
    "row = X.shape[0]\n",
    "B = np.ones([row,])\n",
    "X = np.c_[X,B]\n",
    "#切分数据集\n",
    "X_train, X_test, y_train, y_test = train_test_split(\n",
    "    X, y, test_size=0.33, random_state=42)\n",
    "r_train = X_train.shape[0]\n",
    "#参数全零初始化\n",
    "W = np.zeros([15,])\n",
    "#学习率\n",
    "lr = 0.05\n",
    "#迭代次数\n",
    "t = 100\n",
    "#阈值\n",
    "value = 0.2\n",
    "#储存迭代中loss值\n",
    "L_train = np.zeros([t])\n",
    "L_validation = np.zeros([t])\n",
    "for n in range(t):\n",
    "    #梯度初始化\n",
    "    g = 0\n",
    "    for i in range(r_train):\n",
    "        #对训练集所有样本求梯度g\n",
    "        if 1-y_train[i]*(W.T.dot(X_train[i])) >= 0:\n",
    "            g = g + W - X_train[i]*y_train[i]\n",
    "        else:\n",
    "            g = g + W\n",
    "    #取平均值\n",
    "    g = g/r_train\n",
    "    #更新模型参数\n",
    "    W = W - lr*g\n",
    "    r = 0\n",
    "    #命中数\n",
    "    hit = 0\n",
    "    for i in range(r_train):\n",
    "        r = r + max(0,1-y_train[i]*W.T.dot(X_train[i]))\n",
    "        if (W.dot(X_train[i]) >= value and y_train[i] == 1) or (W.dot(X_train[i]) < value and y_train[i] == -1):\n",
    "            hit += 1\n",
    "    #训练集准确率\n",
    "    accuracy_train = hit/r_train\n",
    "    #计算训练集loss\n",
    "    L_train[n] = 0.5*W.T.dot(W) + 1/r_train*r\n",
    "    r = 0\n",
    "    #命中数\n",
    "    hit = 0\n",
    "    for i in range(row-r_train):\n",
    "        r = r + max(0,1-y_test[i]*W.T.dot(X_test[i]))\n",
    "        if (W.dot(X_test[i]) >= value and y_test[i] == 1) or (W.dot(X_test[i]) < value and y_test[i] == -1):\n",
    "            hit += 1\n",
    "    #测试集准确率\n",
    "    accuracy_test = hit/(row-r_train)\n",
    "    #计算验证集loss\n",
    "    L_validation[n] = 0.5*W.T.dot(W) + 1/(row-r_train)*r\n",
    "#制图\n",
    "n = np.arange(t)\n",
    "plt.plot(n,L_train[n],label='loss_train')\n",
    "plt.plot(n,L_validation[n],label='loss_validation')\n",
    "plt.legend(loc='upper right')\n",
    "plt.xlabel('time')\n",
    "plt.ylabel('loss')"
   ]
  },
  {
   "cell_type": "code",
   "execution_count": null,
   "metadata": {},
   "outputs": [],
   "source": []
  }
 ],
 "metadata": {
  "kernelspec": {
   "display_name": "Python 3",
   "language": "python",
   "name": "python3"
  },
  "language_info": {
   "codemirror_mode": {
    "name": "ipython",
    "version": 3
   },
   "file_extension": ".py",
   "mimetype": "text/x-python",
   "name": "python",
   "nbconvert_exporter": "python",
   "pygments_lexer": "ipython3",
   "version": "3.6.1"
  }
 },
 "nbformat": 4,
 "nbformat_minor": 2
}
