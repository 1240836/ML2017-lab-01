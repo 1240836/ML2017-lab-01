{
 "cells": [
  {
   "cell_type": "markdown",
   "metadata": {},
   "source": [
    "# Regression Experiment"
   ]
  },
  {
   "cell_type": "code",
   "execution_count": 12,
   "metadata": {
    "scrolled": true
   },
   "outputs": [
    {
     "data": {
      "text/plain": [
       "Text(0,0.5,'loss')"
      ]
     },
     "execution_count": 12,
     "metadata": {},
     "output_type": "execute_result"
    },
    {
     "data": {
      "image/png": "[encoded data removed]",
      "text/plain": [
       "<matplotlib.figure.Figure at 0xa70cda0>"
      ]
     },
     "metadata": {},
     "output_type": "display_data"
    }
   ],
   "source": [
    "%matplotlib inline\n",
    "import numpy as np\n",
    "import matplotlib.pyplot as plt\n",
    "from sklearn import datasets as ds\n",
    "from sklearn.model_selection import train_test_split\n",
    "#读取数据集\n",
    "X,y = ds.load_svmlight_file(\"D:/traindata/housing_scale.txt\")\n",
    "X = X.toarray()\n",
    "row = X.shape[0]\n",
    "B = np.ones([row,])\n",
    "X = np.c_[X,B]\n",
    "#切分数据集\n",
    "X_train, X_test, y_train, y_test = train_test_split(\n",
    "    X, y, test_size=0.33, random_state=42)\n",
    "r_train = X_train.shape[0]\n",
    "#参数全零初始化\n",
    "W = np.zeros([14,])\n",
    "#学习率\n",
    "lr = 0.09\n",
    "#λ参数\n",
    "lamda = 0.5\n",
    "#迭代次数\n",
    "s = 25\n",
    "#储存迭代中loss值\n",
    "L_train = np.zeros([s])\n",
    "L_validation = np.zeros([s])\n",
    "for n in range(s):\n",
    "    #梯度初始化\n",
    "    g = 0\n",
    "    #对训练集所有样本求梯度g\n",
    "    for i in range(r_train):\n",
    "        g = g + lamda*W + np.dot(X_train[i].T,X_train[i])*W-np.dot(X_train[i].T,y_train[i])\n",
    "    #取平均值\n",
    "    g = g/r_train\n",
    "    #更新模型参数\n",
    "    W = W - lr*g\n",
    "    #计算训练集loss\n",
    "    L_train[n] = 0.5*np.dot(W.T,W)+0.5*np.dot((y_train-np.dot(X_train,W)).T,y_train-np.dot(X_train,W))/r_train\n",
    "    #计算验证集loss\n",
    "    L_validation[n] = 0.5*np.dot(W.T,W)+0.5*np.dot((y_test-np.dot(X_test,W)).T,y_test-np.dot(X_test,W))/(row-r_train)\n",
    "#制图\n",
    "n = np.arange(s)\n",
    "plt.plot(n,L_train[n],label='loss_train')\n",
    "plt.plot(n,L_validation[n],label='loss_validation')\n",
    "plt.legend(loc='upper right')\n",
    "plt.xlabel('time')\n",
    "plt.ylabel('loss')"
   ]
  },
  {
   "cell_type": "code",
   "execution_count": null,
   "metadata": {},
   "outputs": [],
   "source": []
  }
 ],
 "metadata": {
  "kernelspec": {
   "display_name": "Python 3",
   "language": "python",
   "name": "python3"
  },
  "language_info": {
   "codemirror_mode": {
    "name": "ipython",
    "version": 3
   },
   "file_extension": ".py",
   "mimetype": "text/x-python",
   "name": "python",
   "nbconvert_exporter": "python",
   "pygments_lexer": "ipython3",
   "version": "3.6.1"
  }
 },
 "nbformat": 4,
 "nbformat_minor": 2
}
